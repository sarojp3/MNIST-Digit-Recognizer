{
  "nbformat": 4,
  "nbformat_minor": 0,
  "metadata": {
    "colab": {
      "name": "MNIST_Digit_Recognizer.ipynb",
      "provenance": [],
      "collapsed_sections": []
    },
    "kernelspec": {
      "name": "python3",
      "display_name": "Python 3"
    }
  },
  "cells": [
    {
      "cell_type": "code",
      "metadata": {
        "id": "pVJvr3Ra6UFs",
        "colab_type": "code",
        "colab": {}
      },
      "source": [
        "#Importing Necessary packages and dataset\n",
        "from sklearn.datasets import fetch_openml\n",
        "import matplotlib.pyplot as plt \n",
        "%matplotlib inline\n",
        "\n",
        "#Reading the dataset\n",
        "mnist = fetch_openml('mnist_784')"
      ],
      "execution_count": 25,
      "outputs": []
    },
    {
      "cell_type": "code",
      "metadata": {
        "id": "KaFZzAne7rvr",
        "colab_type": "code",
        "colab": {
          "base_uri": "https://localhost:8080/",
          "height": 34
        },
        "outputId": "e314588c-a29c-4ca2-d341-a4ae8526c2ba"
      },
      "source": [
        "print(mnist.data.shape) #Getting the number of rows and columns of the dataset"
      ],
      "execution_count": 26,
      "outputs": [
        {
          "output_type": "stream",
          "text": [
            "(70000, 784)\n"
          ],
          "name": "stdout"
        }
      ]
    },
    {
      "cell_type": "code",
      "metadata": {
        "id": "9eREf4iFBosW",
        "colab_type": "code",
        "colab": {}
      },
      "source": [
        "#Spliting the dataset into test and train using sklearn package\n",
        "from sklearn.model_selection import train_test_split\n",
        "train_img, test_img, train_lbl, test_lbl = train_test_split(\n",
        "    mnist.data, mnist.target, test_size = 0.3, random_state=0\n",
        ")"
      ],
      "execution_count": 27,
      "outputs": []
    },
    {
      "cell_type": "code",
      "metadata": {
        "id": "WGy_TWEazwP8",
        "colab_type": "code",
        "colab": {
          "base_uri": "https://localhost:8080/",
          "height": 34
        },
        "outputId": "de3213c8-d5c7-4bb7-bf8f-69398903e9de"
      },
      "source": [
        "print(train_img.shape)"
      ],
      "execution_count": 28,
      "outputs": [
        {
          "output_type": "stream",
          "text": [
            "(49000, 784)\n"
          ],
          "name": "stdout"
        }
      ]
    },
    {
      "cell_type": "code",
      "metadata": {
        "id": "NUqUmH2zzwic",
        "colab_type": "code",
        "colab": {
          "base_uri": "https://localhost:8080/",
          "height": 34
        },
        "outputId": "8c2cee70-11ec-4116-bc1d-fac66201ba23"
      },
      "source": [
        "print(train_lbl.shape)"
      ],
      "execution_count": 29,
      "outputs": [
        {
          "output_type": "stream",
          "text": [
            "(49000,)\n"
          ],
          "name": "stdout"
        }
      ]
    },
    {
      "cell_type": "code",
      "metadata": {
        "id": "PTThpgVVzwsE",
        "colab_type": "code",
        "colab": {}
      },
      "source": [
        "import numpy as np\n"
      ],
      "execution_count": 30,
      "outputs": []
    },
    {
      "cell_type": "code",
      "metadata": {
        "id": "z_TlG1dpzw3c",
        "colab_type": "code",
        "colab": {
          "base_uri": "https://localhost:8080/",
          "height": 283
        },
        "outputId": "54aca2f6-8ace-4c53-8950-ae824be809bb"
      },
      "source": [
        "#plotting the train data images using matplotlib\n",
        "plt.figure(figsize=(20,4))\n",
        "for index, (images,label) in enumerate(zip(train_img[0:5], train_lbl[0:5])):\n",
        "  plt.subplot(1,5,index+1)\n",
        "  plt.imshow(np.reshape(images,(28,28)), cmap = plt.cm.gray)\n",
        "  plt.title('Training: %s \\n' % label, fontsize = 20)\n"
      ],
      "execution_count": 31,
      "outputs": [
        {
          "output_type": "display_data",
          "data": {
            "image/png": "[encoded data removed]",
            "text/plain": [
              "<Figure size 1440x288 with 5 Axes>"
            ]
          },
          "metadata": {
            "tags": [],
            "needs_background": "light"
          }
        }
      ]
    },
    {
      "cell_type": "code",
      "metadata": {
        "id": "VLaOBEl72mMs",
        "colab_type": "code",
        "colab": {}
      },
      "source": [
        "#Importing Logistic Regression Model for training the data\n",
        "from sklearn.linear_model import LogisticRegression\n"
      ],
      "execution_count": 32,
      "outputs": []
    },
    {
      "cell_type": "code",
      "metadata": {
        "id": "dd5L5ra668s4",
        "colab_type": "code",
        "colab": {
          "base_uri": "https://localhost:8080/",
          "height": 238
        },
        "outputId": "8a3336fc-c020-4553-a547-b051b80f5c96"
      },
      "source": [
        "#Using lbfgs optimizer for the training\n",
        "logisticRegr = LogisticRegression(solver = 'lbfgs')\n",
        "logisticRegr.fit(train_img,train_lbl)"
      ],
      "execution_count": 33,
      "outputs": [
        {
          "output_type": "stream",
          "text": [
            "/usr/local/lib/python3.6/dist-packages/sklearn/linear_model/_logistic.py:940: ConvergenceWarning: lbfgs failed to converge (status=1):\n",
            "STOP: TOTAL NO. of ITERATIONS REACHED LIMIT.\n",
            "\n",
            "Increase the number of iterations (max_iter) or scale the data as shown in:\n",
            "    https://scikit-learn.org/stable/modules/preprocessing.html\n",
            "Please also refer to the documentation for alternative solver options:\n",
            "    https://scikit-learn.org/stable/modules/linear_model.html#logistic-regression\n",
            "  extra_warning_msg=_LOGISTIC_SOLVER_CONVERGENCE_MSG)\n"
          ],
          "name": "stderr"
        },
        {
          "output_type": "execute_result",
          "data": {
            "text/plain": [
              "LogisticRegression(C=1.0, class_weight=None, dual=False, fit_intercept=True,\n",
              "                   intercept_scaling=1, l1_ratio=None, max_iter=100,\n",
              "                   multi_class='auto', n_jobs=None, penalty='l2',\n",
              "                   random_state=None, solver='lbfgs', tol=0.0001, verbose=0,\n",
              "                   warm_start=False)"
            ]
          },
          "metadata": {
            "tags": []
          },
          "execution_count": 33
        }
      ]
    },
    {
      "cell_type": "code",
      "metadata": {
        "id": "hv97H39Z8srk",
        "colab_type": "code",
        "colab": {
          "base_uri": "https://localhost:8080/",
          "height": 34
        },
        "outputId": "51d2a51b-0012-4af1-ddd3-16aaef8e9570"
      },
      "source": [
        "#Predicting test dataset \n",
        "logisticRegr.predict(test_img[0].reshape(1,-1))"
      ],
      "execution_count": 34,
      "outputs": [
        {
          "output_type": "execute_result",
          "data": {
            "text/plain": [
              "array(['0'], dtype=object)"
            ]
          },
          "metadata": {
            "tags": []
          },
          "execution_count": 34
        }
      ]
    },
    {
      "cell_type": "code",
      "metadata": {
        "id": "q9ComLgk9gtk",
        "colab_type": "code",
        "colab": {
          "base_uri": "https://localhost:8080/",
          "height": 34
        },
        "outputId": "ef395f35-0196-4c1b-cf89-139801884d10"
      },
      "source": [
        "logisticRegr.predict(test_img[0:10])"
      ],
      "execution_count": 35,
      "outputs": [
        {
          "output_type": "execute_result",
          "data": {
            "text/plain": [
              "array(['0', '4', '1', '2', '7', '7', '7', '1', '1', '7'], dtype=object)"
            ]
          },
          "metadata": {
            "tags": []
          },
          "execution_count": 35
        }
      ]
    },
    {
      "cell_type": "code",
      "metadata": {
        "id": "97lt5-hX9_cp",
        "colab_type": "code",
        "colab": {}
      },
      "source": [
        "predictions = logisticRegr.predict(test_img)"
      ],
      "execution_count": 36,
      "outputs": []
    },
    {
      "cell_type": "code",
      "metadata": {
        "id": "Sc6w6u0P-rah",
        "colab_type": "code",
        "colab": {
          "base_uri": "https://localhost:8080/",
          "height": 34
        },
        "outputId": "347a99b2-2098-415f-c94c-29bb5238c8fe"
      },
      "source": [
        "#Displaying the accuracy of the trained model\n",
        "score = logisticRegr.score(test_img, test_lbl)\n",
        "print(score)"
      ],
      "execution_count": 37,
      "outputs": [
        {
          "output_type": "stream",
          "text": [
            "0.9186666666666666\n"
          ],
          "name": "stdout"
        }
      ]
    },
    {
      "cell_type": "code",
      "metadata": {
        "id": "h6zGXA18-_S5",
        "colab_type": "code",
        "colab": {}
      },
      "source": [
        "#Creating an array of indexes of misclassified images\n",
        "index = 0\n",
        "misclassifiedIndexes = []\n",
        "for label, predict in zip(test_lbl, predictions):\n",
        "  if label != predict:\n",
        "    misclassifiedIndexes.append(index)\n",
        "  index = index + 1\n"
      ],
      "execution_count": 38,
      "outputs": []
    },
    {
      "cell_type": "code",
      "metadata": {
        "id": "Cf12L3ODBDBP",
        "colab_type": "code",
        "colab": {
          "base_uri": "https://localhost:8080/",
          "height": 258
        },
        "outputId": "ce14462a-0b82-48b1-9585-e7fde20f848f"
      },
      "source": [
        "#Plotting the misclassified images\n",
        "plt.figure(figsize=(20,4))\n",
        "for plotIndex, badIndex in enumerate(misclassifiedIndexes[0:5]):\n",
        "    plt.subplot(1, 5, plotIndex + 1)\n",
        "    plt.imshow(np.reshape(test_img[badIndex], (28,28)), cmap=plt.cm.gray)\n",
        "    plt.title('Predicted: {}, Actual: {}'.format(predictions[badIndex], test_lbl[badIndex]), fontsize = 15)"
      ],
      "execution_count": 39,
      "outputs": [
        {
          "output_type": "display_data",
          "data": {
            "image/png": "[encoded data removed]",
            "text/plain": [
              "<Figure size 1440x288 with 5 Axes>"
            ]
          },
          "metadata": {
            "tags": [],
            "needs_background": "light"
          }
        }
      ]
    },
    {
      "cell_type": "code",
      "metadata": {
        "id": "up27P_5LCyJ9",
        "colab_type": "code",
        "colab": {}
      },
      "source": [
        "#Creating an array of indexes of correctly classified images\n",
        "index2 = 0\n",
        "correctclassifiedIndexes = []\n",
        "for label, predict in zip(test_lbl, predictions):\n",
        "  if label == predict:\n",
        "    correctclassifiedIndexes.append(index2)\n",
        "  index2 = index2 + 1"
      ],
      "execution_count": 40,
      "outputs": []
    },
    {
      "cell_type": "code",
      "metadata": {
        "id": "-AJtItQQaoeB",
        "colab_type": "code",
        "colab": {
          "base_uri": "https://localhost:8080/",
          "height": 258
        },
        "outputId": "c8ffc1a0-ec02-404b-f71c-ceaab337939f"
      },
      "source": [
        "#Plotting the correctly classified images\n",
        "plt.figure(figsize=(20,4))\n",
        "for plotIndex, goodIndex in enumerate(correctclassifiedIndexes[0:5]):\n",
        "    plt.subplot(1, 5, plotIndex + 1)\n",
        "    plt.imshow(np.reshape(test_img[goodIndex], (28,28)), cmap=plt.cm.gray)\n",
        "    plt.title('Predicted: {}, Actual: {}'.format(predictions[goodIndex], test_lbl[goodIndex]), fontsize = 15)"
      ],
      "execution_count": 41,
      "outputs": [
        {
          "output_type": "display_data",
          "data": {
            "image/png": "[encoded data removed]",
            "text/plain": [
              "<Figure size 1440x288 with 5 Axes>"
            ]
          },
          "metadata": {
            "tags": [],
            "needs_background": "light"
          }
        }
      ]
    },
    {
      "cell_type": "code",
      "metadata": {
        "id": "OewbFCr7a70e",
        "colab_type": "code",
        "colab": {}
      },
      "source": [
        ""
      ],
      "execution_count": null,
      "outputs": []
    }
  ]
}